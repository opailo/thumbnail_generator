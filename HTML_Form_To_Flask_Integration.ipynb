{
  "nbformat": 4,
  "nbformat_minor": 0,
  "metadata": {
    "colab": {
      "provenance": []
    },
    "kernelspec": {
      "name": "python3",
      "display_name": "Python 3"
    },
    "language_info": {
      "name": "python"
    }
  },
  "cells": [
    {
      "cell_type": "markdown",
      "source": [
        "#HTML Form\n",
        "\n",
        "HTML form: You'll need to create an HTML form in your website that allows users to upload the three images required for thumbnail generation. \n",
        "\n",
        "This form allows users to upload the three required images and submit them to the Flask route for thumbnail generation."
      ],
      "metadata": {
        "id": "q6F8A3so_V6J"
      }
    },
    {
      "cell_type": "code",
      "source": [
        "<form action=\"/generate_thumbnail\" method=\"post\" enctype=\"multipart/form-data\">\n",
        "    <label for=\"pattern_overlay_1\">Pattern Overlay 1:</label>\n",
        "    <input type=\"file\" name=\"pattern_overlay_1\" accept=\"image/jpeg,image/png\"><br><br>\n",
        "\n",
        "    <label for=\"pattern_overlay_2\">Pattern Overlay 2:</label>\n",
        "    <input type=\"file\" name=\"pattern_overlay_2\" accept=\"image/jpeg,image/png\"><br><br>\n",
        "\n",
        "    <label for=\"subject\">Subject:</label>\n",
        "    <input type=\"file\" name=\"subject\" accept=\"image/jpeg,image/png\"><br><br>\n",
        "\n",
        "    <input type=\"submit\" value=\"Generate Thumbnail\">\n",
        "</form>"
      ],
      "metadata": {
        "id": "DfpogWo1_kVl"
      },
      "execution_count": null,
      "outputs": []
    },
    {
      "cell_type": "markdown",
      "source": [
        "#Display thumbnail \n",
        "\n",
        "Once the thumbnail is generated, you'll need to display it on the website. You can do this by returning the generated image as a file and using an HTML \"img\" tag to display it."
      ],
      "metadata": {
        "id": "nFl3TEvf_l8d"
      }
    },
    {
      "cell_type": "code",
      "source": [
        "from flask import send_file\n",
        "\n",
        "@app.route('/generate_thumbnail', methods=['POST'])\n",
        "def generate_thumbnail():\n",
        "    # Receive image files from request\n",
        "    pattern_overlay_1 = request.files['pattern_overlay_1']\n",
        "    pattern_overlay_2 = request.files['pattern_overlay_2']\n",
        "    subject = request.files['subject']\n",
        "\n",
        "    # Convert JPEG images to PNG format\n",
        "    pattern_overlay_1 = Image.open(pattern_overlay_1)\n",
        "    pattern_overlay_2 = Image.open(pattern_overlay_2)\n",
        "    subject = Image.open(subject)\n",
        "\n",
        "    if pattern_overlay_1.format == 'JPEG':\n",
        "        pattern_overlay_1 = pattern_overlay_1.convert('RGB')\n",
        "        pattern_overlay_1.save('pattern_overlay_1.png')\n",
        "\n",
        "    if pattern_overlay_2.format == 'JPEG':\n",
        "        pattern_overlay_2 = pattern_overlay_2.convert('RGB')\n",
        "        pattern_overlay_2.save('pattern_overlay_2.png')\n",
        "\n",
        "    if subject.format == 'JPEG':\n",
        "        subject = subject.convert('RGB')\n",
        "        subject.save('subject.png')\n",
        "\n",
        "    # Generate thumbnail\n",
        "    thumbnail = generate_thumbnail(pattern_overlay_1, pattern_overlay_2, subject)\n",
        "\n",
        "    # Save thumbnail to file\n",
        "    thumbnail.save('thumbnail.png')\n",
        "\n",
        "    # Return generated thumbnail as file\n",
        "    return send_file('thumbnail.png', mimetype='image/png')"
      ],
      "metadata": {
        "id": "LbDPOabh_vrN"
      },
      "execution_count": null,
      "outputs": []
    },
    {
      "cell_type": "markdown",
      "source": [
        "This code uses Flask's \"send_file\" function to return the generated thumbnail as a file with a \"image/png\" mimetype. You can use an HTML \"img\" tag to display the thumbnail on the website:"
      ],
      "metadata": {
        "id": "4yips2ww_0Qj"
      }
    },
    {
      "cell_type": "code",
      "source": [
        "<img src=\"/generate_thumbnail\" alt=\"Generated thumbnail\">"
      ],
      "metadata": {
        "id": "btEoRsg2_2_T"
      },
      "execution_count": null,
      "outputs": []
    },
    {
      "cell_type": "markdown",
      "source": [
        "With these changes, your Flask code should be fully integrated into your website and able to generate and display thumbnails for uploaded images."
      ],
      "metadata": {
        "id": "-vF9dGep_6cj"
      }
    }
  ]
}