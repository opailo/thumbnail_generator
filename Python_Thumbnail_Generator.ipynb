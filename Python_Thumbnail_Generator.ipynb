{
  "nbformat": 4,
  "nbformat_minor": 0,
  "metadata": {
    "colab": {
      "provenance": []
    },
    "kernelspec": {
      "name": "python3",
      "display_name": "Python 3"
    },
    "language_info": {
      "name": "python"
    }
  },
  "cells": [
    {
      "cell_type": "markdown",
      "source": [
        "First, we import the necessary libraries, including Pillow which we'll use to \n",
        "manipulate the images, and os which we'll use to get the file paths.\n",
        "\n",
        "Next, we define the paths to the source folders and the output folder. We also define the background color in hex code and the dimensions of the thumbnail.\n",
        "\n",
        "Then, we define a function called convert_to_png() that takes in the file path of an image and converts it to a PNG format if necessary. If the image is already in PNG format, it returns the image as is. If the image is in JPEG format, it converts it to PNG format and saves the PNG image with the same filename. \n",
        "\n",
        "If the image is neither in JPEG nor PNG format, it raises a ValueError.\n",
        "\n",
        "After that, we define the main function called create_thumbnail() that creates the thumbnail. First, it creates an empty thumbnail image with the specified dimensions and background color using the Image.new() function.\n",
        "\n",
        "Then, it overlays the first pattern overlay image onto the thumbnail using the paste() function. The paste() function takes in the image to be past"
      ],
      "metadata": {
        "id": "juqPWIi6-enU"
      }
    },
    {
      "cell_type": "code",
      "execution_count": null,
      "metadata": {
        "id": "tDBxGMfS-Vfq"
      },
      "outputs": [],
      "source": [
        "from PIL import Image\n",
        "import os\n",
        "\n",
        "# Define source folders and output folder\n",
        "pattern_overlay_folder_1 = \"pattern_overlay_folder_1/\"\n",
        "pattern_overlay_folder_2 = \"pattern_overlay_folder_2/\"\n",
        "subject_folder = \"subject_folder/\"\n",
        "output_folder = \"saved_results/\"\n",
        "\n",
        "# Define background color in hex code\n",
        "background_color = \"#ffffff\"\n",
        "\n",
        "# Define thumbnail dimensions\n",
        "thumbnail_width = 1280\n",
        "thumbnail_height = 720\n",
        "\n",
        "# Define function to convert image to png if necessary\n",
        "def convert_to_png(image_path):\n",
        "    # Open image\n",
        "    image = Image.open(image_path)\n",
        "    # Check if image is already in png format\n",
        "    if image.format == \"PNG\":\n",
        "        return image\n",
        "    # Check if image is in jpeg format\n",
        "    elif image.format == \"JPEG\":\n",
        "        # Convert image to png format\n",
        "        png_image = image.convert(\"RGBA\")\n",
        "        # Save png image with same filename\n",
        "        png_image.save(image_path, \"PNG\")\n",
        "        return png_image\n",
        "    else:\n",
        "        # Throw error if image is neither jpeg nor png\n",
        "        raise ValueError(\"Image format not supported.\")\n",
        "\n",
        "# Define function to create thumbnail\n",
        "def create_thumbnail():\n",
        "    # Create empty thumbnail\n",
        "    thumbnail = Image.new(\"RGBA\", (thumbnail_width, thumbnail_height), background_color)\n",
        "    \n",
        "    # Overlay first pattern overlay\n",
        "    pattern_overlay_1_path = os.path.join(pattern_overlay_folder_1, os.listdir(pattern_overlay_folder_1)[0])\n",
        "    pattern_overlay_1 = convert_to_png(pattern_overlay_1_path)\n",
        "    thumbnail.paste(pattern_overlay_1, (0, 0), pattern_overlay_1)\n",
        "    \n",
        "    # Overlay second pattern overlay\n",
        "    pattern_overlay_2_path = os.path.join(pattern_overlay_folder_2, os.listdir(pattern_overlay_folder_2)[0])\n",
        "    pattern_overlay_2 = convert_to_png(pattern_overlay_2_path)\n",
        "    thumbnail.paste(pattern_overlay_2, (0, 0), pattern_overlay_2)\n",
        "    \n",
        "    # Overlay subject image\n",
        "    subject_path = os.path.join(subject_folder, os.listdir(subject_folder)[0])\n",
        "    subject = convert_to_png(subject_path)\n",
        "    thumbnail.paste(subject, (10, 0), subject)\n",
        "    \n",
        "    # Save thumbnail\n",
        "    thumbnail_filename = os.path.splitext(os.path.basename(subject_path))[0] + \"_thumbnail.png\"\n",
        "    thumbnail.save(os.path.join(output_folder, thumbnail_filename), \"PNG\")\n",
        "\n",
        "# Call function to create thumbnail\n",
        "create_thumbnail()"
      ]
    }
  ]
}